{
  "nbformat": 4,
  "nbformat_minor": 0,
  "metadata": {
    "kernelspec": {
      "display_name": "Python 3",
      "language": "python",
      "name": "python3"
    },
    "language_info": {
      "codemirror_mode": {
        "name": "ipython",
        "version": 3
      },
      "file_extension": ".py",
      "mimetype": "text/x-python",
      "name": "python",
      "nbconvert_exporter": "python",
      "pygments_lexer": "ipython3",
      "version": "3.8.8"
    },
    "colab": {
      "name": "Surprise recommendation 1.ipynb",
      "provenance": [],
      "include_colab_link": true
    }
  },
  "cells": [
    {
      "cell_type": "markdown",
      "metadata": {
        "id": "view-in-github",
        "colab_type": "text"
      },
      "source": [
        "<a href=\"https://colab.research.google.com/github/Augustin0527/Analyse-de-sentiment-avec-TFIDF/blob/main/Surprise_recommendation_1.ipynb\" target=\"_parent\"><img src=\"https://colab.research.google.com/assets/colab-badge.svg\" alt=\"Open In Colab\"/></a>"
      ]
    },
    {
      "cell_type": "code",
      "metadata": {
        "id": "uSLryX0gb3eb"
      },
      "source": [
        "import numpy"
      ],
      "execution_count": 1,
      "outputs": []
    },
    {
      "cell_type": "markdown",
      "metadata": {
        "id": "huNeRcmib3ed"
      },
      "source": [
        "> site officiel: http://surpriselib.com/\n",
        "\n",
        "> installer surprise:\n",
        "\n",
        "conda install -c conda-forge scikit-surprise"
      ]
    },
    {
      "cell_type": "code",
      "metadata": {
        "colab": {
          "base_uri": "https://localhost:8080/"
        },
        "id": "CautdxX8b3ee",
        "outputId": "596aecc2-8d4d-40a5-a961-3a54bb742862"
      },
      "source": [
        "pip install surprise"
      ],
      "execution_count": 2,
      "outputs": [
        {
          "output_type": "stream",
          "text": [
            "Collecting surprise\n",
            "  Downloading https://files.pythonhosted.org/packages/61/de/e5cba8682201fcf9c3719a6fdda95693468ed061945493dea2dd37c5618b/surprise-0.1-py2.py3-none-any.whl\n",
            "Collecting scikit-surprise\n",
            "\u001b[?25l  Downloading https://files.pythonhosted.org/packages/97/37/5d334adaf5ddd65da99fc65f6507e0e4599d092ba048f4302fe8775619e8/scikit-surprise-1.1.1.tar.gz (11.8MB)\n",
            "\u001b[K     |████████████████████████████████| 11.8MB 3.8MB/s \n",
            "\u001b[?25hRequirement already satisfied: joblib>=0.11 in /usr/local/lib/python3.7/dist-packages (from scikit-surprise->surprise) (1.0.1)\n",
            "Requirement already satisfied: numpy>=1.11.2 in /usr/local/lib/python3.7/dist-packages (from scikit-surprise->surprise) (1.19.5)\n",
            "Requirement already satisfied: scipy>=1.0.0 in /usr/local/lib/python3.7/dist-packages (from scikit-surprise->surprise) (1.4.1)\n",
            "Requirement already satisfied: six>=1.10.0 in /usr/local/lib/python3.7/dist-packages (from scikit-surprise->surprise) (1.15.0)\n",
            "Building wheels for collected packages: scikit-surprise\n",
            "  Building wheel for scikit-surprise (setup.py) ... \u001b[?25l\u001b[?25hdone\n",
            "  Created wheel for scikit-surprise: filename=scikit_surprise-1.1.1-cp37-cp37m-linux_x86_64.whl size=1617639 sha256=5ed06d6b33dbe95aedca4cce8be53848049ebf8966a79075e25132cb50004f63\n",
            "  Stored in directory: /root/.cache/pip/wheels/78/9c/3d/41b419c9d2aff5b6e2b4c0fc8d25c538202834058f9ed110d0\n",
            "Successfully built scikit-surprise\n",
            "Installing collected packages: scikit-surprise, surprise\n",
            "Successfully installed scikit-surprise-1.1.1 surprise-0.1\n"
          ],
          "name": "stdout"
        }
      ]
    },
    {
      "cell_type": "code",
      "metadata": {
        "id": "Fwrt0c5qb3ef"
      },
      "source": [
        "from surprise import KNNBasic\n",
        "from surprise import Dataset\n",
        "from surprise.model_selection import cross_validate"
      ],
      "execution_count": 3,
      "outputs": []
    },
    {
      "cell_type": "code",
      "metadata": {
        "colab": {
          "base_uri": "https://localhost:8080/"
        },
        "id": "r9B1hp3tb3eh",
        "outputId": "21ece9bf-0690-4313-ff4e-cd42fb5e90b4"
      },
      "source": [
        "data = Dataset.load_builtin('ml-100k', prompt = False)"
      ],
      "execution_count": 4,
      "outputs": [
        {
          "output_type": "stream",
          "text": [
            "Trying to download dataset from http://files.grouplens.org/datasets/movielens/ml-100k.zip...\n",
            "Done! Dataset ml-100k has been saved to /root/.surprise_data/ml-100k\n"
          ],
          "name": "stdout"
        }
      ]
    },
    {
      "cell_type": "code",
      "metadata": {
        "colab": {
          "base_uri": "https://localhost:8080/"
        },
        "id": "wvzyl2KWb3ei",
        "outputId": "cc15e497-1406-461e-d085-f7541975f024"
      },
      "source": [
        "# Utilisons le KNN \n",
        "algo = KNNBasic()\n",
        "\n",
        "#  5-fold cross-validation en affichant les résultats \n",
        "cross_validate(algo, data, measures=['RMSE', 'MAE'], cv=5, verbose=True)"
      ],
      "execution_count": 5,
      "outputs": [
        {
          "output_type": "stream",
          "text": [
            "Computing the msd similarity matrix...\n",
            "Done computing similarity matrix.\n",
            "Computing the msd similarity matrix...\n",
            "Done computing similarity matrix.\n",
            "Computing the msd similarity matrix...\n",
            "Done computing similarity matrix.\n",
            "Computing the msd similarity matrix...\n",
            "Done computing similarity matrix.\n",
            "Computing the msd similarity matrix...\n",
            "Done computing similarity matrix.\n",
            "Evaluating RMSE, MAE of algorithm KNNBasic on 5 split(s).\n",
            "\n",
            "                  Fold 1  Fold 2  Fold 3  Fold 4  Fold 5  Mean    Std     \n",
            "RMSE (testset)    0.9730  0.9829  0.9848  0.9794  0.9721  0.9784  0.0051  \n",
            "MAE (testset)     0.7666  0.7749  0.7783  0.7749  0.7679  0.7725  0.0045  \n",
            "Fit time          0.50    0.57    0.57    0.57    0.43    0.53    0.06    \n",
            "Test time         3.94    4.21    4.09    4.37    4.36    4.19    0.16    \n"
          ],
          "name": "stdout"
        },
        {
          "output_type": "execute_result",
          "data": {
            "text/plain": [
              "{'fit_time': (0.5008220672607422,\n",
              "  0.5723598003387451,\n",
              "  0.572319507598877,\n",
              "  0.5689058303833008,\n",
              "  0.43416547775268555),\n",
              " 'test_mae': array([0.76664603, 0.77493651, 0.77830092, 0.7748767 , 0.7678758 ]),\n",
              " 'test_rmse': array([0.97300487, 0.98290278, 0.98475847, 0.97942626, 0.9721044 ]),\n",
              " 'test_time': (3.9424703121185303,\n",
              "  4.207669496536255,\n",
              "  4.087927579879761,\n",
              "  4.365077972412109,\n",
              "  4.359778165817261)}"
            ]
          },
          "metadata": {
            "tags": []
          },
          "execution_count": 5
        }
      ]
    },
    {
      "cell_type": "markdown",
      "metadata": {
        "id": "miklBP4xb3ek"
      },
      "source": [
        "> visitez : https://surprise.readthedocs.io/en/stable/knn_inspired.html#surprise.prediction_algorithms.knns.KNNBasic \n",
        "\n",
        "Comme vous pouvez le remarquer, la mesure de similarité par défaut est la différence des moyennes au carré. \n",
        "\n",
        "Vous pouvez remarquer aussi que l'approche par défaut est User-based CF ('user_based':True)\n",
        "\n",
        "> alors le code ci-dessus est semblable au code suivant (comparez les résultats):"
      ]
    },
    {
      "cell_type": "code",
      "metadata": {
        "colab": {
          "base_uri": "https://localhost:8080/"
        },
        "id": "UaTvNhFcb3el",
        "outputId": "ca54a030-4c96-429c-ffa3-c5a0fcf35539"
      },
      "source": [
        "sim_options = {'name': 'MSD',\n",
        "               'user_based': True  \n",
        "               }\n",
        "algo = KNNBasic(sim_options=sim_options)\n",
        "cross_validate(algo, data, measures=['RMSE', 'MAE'], cv=5, verbose=True)"
      ],
      "execution_count": 6,
      "outputs": [
        {
          "output_type": "stream",
          "text": [
            "Computing the msd similarity matrix...\n",
            "Done computing similarity matrix.\n",
            "Computing the msd similarity matrix...\n",
            "Done computing similarity matrix.\n",
            "Computing the msd similarity matrix...\n",
            "Done computing similarity matrix.\n",
            "Computing the msd similarity matrix...\n",
            "Done computing similarity matrix.\n",
            "Computing the msd similarity matrix...\n",
            "Done computing similarity matrix.\n",
            "Evaluating RMSE, MAE of algorithm KNNBasic on 5 split(s).\n",
            "\n",
            "                  Fold 1  Fold 2  Fold 3  Fold 4  Fold 5  Mean    Std     \n",
            "RMSE (testset)    0.9729  0.9777  0.9727  0.9903  0.9803  0.9788  0.0065  \n",
            "MAE (testset)     0.7697  0.7740  0.7678  0.7814  0.7729  0.7732  0.0047  \n",
            "Fit time          0.53    0.61    0.43    0.43    0.39    0.48    0.08    \n",
            "Test time         4.36    3.65    4.18    3.76    3.90    3.97    0.26    \n"
          ],
          "name": "stdout"
        },
        {
          "output_type": "execute_result",
          "data": {
            "text/plain": [
              "{'fit_time': (0.5280334949493408,\n",
              "  0.6100265979766846,\n",
              "  0.4257779121398926,\n",
              "  0.4251227378845215,\n",
              "  0.3875257968902588),\n",
              " 'test_mae': array([0.76971876, 0.77403915, 0.76780268, 0.78140723, 0.77294919]),\n",
              " 'test_rmse': array([0.97285357, 0.97773489, 0.97272802, 0.990312  , 0.98030606]),\n",
              " 'test_time': (4.3629467487335205,\n",
              "  3.651266098022461,\n",
              "  4.182520627975464,\n",
              "  3.756530523300171,\n",
              "  3.9046554565429688)}"
            ]
          },
          "metadata": {
            "tags": []
          },
          "execution_count": 6
        }
      ]
    },
    {
      "cell_type": "markdown",
      "metadata": {
        "id": "FRlbvhysb3en"
      },
      "source": [
        "### exercice:\n",
        "\n",
        "> réimplémentez l'algorithme de voisinage en haut en utilisant différentes combinaisons de paramètres (cosine et user-based, pearson et user-based, pearson et item-based, cosine et item-based) \n",
        "\n",
        "> comparez les résultats de ces différentes approches <\n"
      ]
    },
    {
      "cell_type": "markdown",
      "metadata": {
        "id": "aBXheJxqb3eo"
      },
      "source": [
        "Une variante du coefiicient de pearson introduit un coefficient de rétrécissement (shrinkage): https://surprise.readthedocs.io/en/stable/similarities.html#surprise.similarities.pearson_baseline\n",
        "\n",
        "> implémentez l'algorithme en haut en utilisant ccette variante (augmente-t-elle la performance ?)"
      ]
    },
    {
      "cell_type": "markdown",
      "metadata": {
        "id": "nJDRYf5Mb3eo"
      },
      "source": [
        ""
      ]
    },
    {
      "cell_type": "markdown",
      "metadata": {
        "id": "rXRhSkl-gecS"
      },
      "source": [
        "# MSD avec  item-based"
      ]
    },
    {
      "cell_type": "code",
      "metadata": {
        "colab": {
          "base_uri": "https://localhost:8080/"
        },
        "id": "Bz8Dy8k1b3eo",
        "outputId": "33171067-b864-4a49-ee73-83a8fa7a64a6"
      },
      "source": [
        "sim_options = {'name': 'MSD',\n",
        "               'user_based': False  \n",
        "               }\n",
        "algo = KNNBasic(sim_options=sim_options)\n",
        "cross_validate(algo, data, measures=['RMSE', 'MAE'], cv=5, verbose=True)"
      ],
      "execution_count": 7,
      "outputs": [
        {
          "output_type": "stream",
          "text": [
            "Computing the msd similarity matrix...\n",
            "Done computing similarity matrix.\n",
            "Computing the msd similarity matrix...\n",
            "Done computing similarity matrix.\n",
            "Computing the msd similarity matrix...\n",
            "Done computing similarity matrix.\n",
            "Computing the msd similarity matrix...\n",
            "Done computing similarity matrix.\n",
            "Computing the msd similarity matrix...\n",
            "Done computing similarity matrix.\n",
            "Evaluating RMSE, MAE of algorithm KNNBasic on 5 split(s).\n",
            "\n",
            "                  Fold 1  Fold 2  Fold 3  Fold 4  Fold 5  Mean    Std     \n",
            "RMSE (testset)    0.9649  0.9771  0.9782  0.9767  0.9749  0.9744  0.0048  \n",
            "MAE (testset)     0.7620  0.7711  0.7709  0.7720  0.7728  0.7698  0.0039  \n",
            "Fit time          0.76    0.57    0.55    0.57    0.68    0.63    0.08    \n",
            "Test time         4.41    4.35    4.33    4.35    4.33    4.35    0.03    \n"
          ],
          "name": "stdout"
        },
        {
          "output_type": "execute_result",
          "data": {
            "text/plain": [
              "{'fit_time': (0.7559125423431396,\n",
              "  0.5731625556945801,\n",
              "  0.5501406192779541,\n",
              "  0.5737917423248291,\n",
              "  0.6796729564666748),\n",
              " 'test_mae': array([0.76204149, 0.7710596 , 0.77091108, 0.77197993, 0.77284751]),\n",
              " 'test_rmse': array([0.96494474, 0.97705162, 0.97816478, 0.97668561, 0.97494474]),\n",
              " 'test_time': (4.40841269493103,\n",
              "  4.351436138153076,\n",
              "  4.33216404914856,\n",
              "  4.349365472793579,\n",
              "  4.326679229736328)}"
            ]
          },
          "metadata": {
            "tags": []
          },
          "execution_count": 7
        }
      ]
    },
    {
      "cell_type": "markdown",
      "metadata": {
        "id": "V6aUygcugvxu"
      },
      "source": [
        "# Pearson baseline avec user based"
      ]
    },
    {
      "cell_type": "code",
      "metadata": {
        "colab": {
          "base_uri": "https://localhost:8080/"
        },
        "id": "nMwQyaNZdSIj",
        "outputId": "827f5f14-0512-4e32-f6bd-0a472059918c"
      },
      "source": [
        "sim_options = {'name': 'pearson_baseline',\n",
        "               'user_based': True  \n",
        "               }\n",
        "algo = KNNBasic(sim_options=sim_options)\n",
        "cross_validate(algo, data, measures=['RMSE', 'MAE'], cv=5, verbose=True)"
      ],
      "execution_count": 8,
      "outputs": [
        {
          "output_type": "stream",
          "text": [
            "Estimating biases using als...\n",
            "Computing the pearson_baseline similarity matrix...\n",
            "Done computing similarity matrix.\n",
            "Estimating biases using als...\n",
            "Computing the pearson_baseline similarity matrix...\n",
            "Done computing similarity matrix.\n",
            "Estimating biases using als...\n",
            "Computing the pearson_baseline similarity matrix...\n",
            "Done computing similarity matrix.\n",
            "Estimating biases using als...\n",
            "Computing the pearson_baseline similarity matrix...\n",
            "Done computing similarity matrix.\n",
            "Estimating biases using als...\n",
            "Computing the pearson_baseline similarity matrix...\n",
            "Done computing similarity matrix.\n",
            "Evaluating RMSE, MAE of algorithm KNNBasic on 5 split(s).\n",
            "\n",
            "                  Fold 1  Fold 2  Fold 3  Fold 4  Fold 5  Mean    Std     \n",
            "RMSE (testset)    1.0035  1.0012  0.9986  1.0058  0.9868  0.9992  0.0066  \n",
            "MAE (testset)     0.7940  0.7916  0.7896  0.7977  0.7813  0.7908  0.0055  \n",
            "Fit time          1.87    1.88    1.86    1.95    1.95    1.90    0.04    \n",
            "Test time         4.24    4.95    4.30    4.41    5.06    4.59    0.34    \n"
          ],
          "name": "stdout"
        },
        {
          "output_type": "execute_result",
          "data": {
            "text/plain": [
              "{'fit_time': (1.8659934997558594,\n",
              "  1.877770185470581,\n",
              "  1.8639914989471436,\n",
              "  1.952965497970581,\n",
              "  1.9458694458007812),\n",
              " 'test_mae': array([0.79395195, 0.79160421, 0.78958486, 0.79774022, 0.78131534]),\n",
              " 'test_rmse': array([1.00349684, 1.00117121, 0.99858644, 1.00579936, 0.98679159]),\n",
              " 'test_time': (4.2351295948028564,\n",
              "  4.950403690338135,\n",
              "  4.300429344177246,\n",
              "  4.405945777893066,\n",
              "  5.059815883636475)}"
            ]
          },
          "metadata": {
            "tags": []
          },
          "execution_count": 8
        }
      ]
    },
    {
      "cell_type": "markdown",
      "metadata": {
        "id": "dfoWNX_Dg6tK"
      },
      "source": [
        "# Pearson Baseline avec Items based"
      ]
    },
    {
      "cell_type": "code",
      "metadata": {
        "colab": {
          "base_uri": "https://localhost:8080/"
        },
        "id": "or8O_FkneT3r",
        "outputId": "386f66c3-7e15-4560-c4c4-c8fd1ec5145c"
      },
      "source": [
        "sim_options = {'name': 'pearson_baseline',\n",
        "               'user_based': False  \n",
        "               }\n",
        "algo = KNNBasic(sim_options=sim_options)\n",
        "cross_validate(algo, data, measures=['RMSE', 'MAE'], cv=5, verbose=True)"
      ],
      "execution_count": 9,
      "outputs": [
        {
          "output_type": "stream",
          "text": [
            "Estimating biases using als...\n",
            "Computing the pearson_baseline similarity matrix...\n",
            "Done computing similarity matrix.\n",
            "Estimating biases using als...\n",
            "Computing the pearson_baseline similarity matrix...\n",
            "Done computing similarity matrix.\n",
            "Estimating biases using als...\n",
            "Computing the pearson_baseline similarity matrix...\n",
            "Done computing similarity matrix.\n",
            "Estimating biases using als...\n",
            "Computing the pearson_baseline similarity matrix...\n",
            "Done computing similarity matrix.\n",
            "Estimating biases using als...\n",
            "Computing the pearson_baseline similarity matrix...\n",
            "Done computing similarity matrix.\n",
            "Evaluating RMSE, MAE of algorithm KNNBasic on 5 split(s).\n",
            "\n",
            "                  Fold 1  Fold 2  Fold 3  Fold 4  Fold 5  Mean    Std     \n",
            "RMSE (testset)    0.9840  0.9931  0.9987  0.9956  0.9952  0.9933  0.0050  \n",
            "MAE (testset)     0.7752  0.7802  0.7847  0.7834  0.7828  0.7813  0.0034  \n",
            "Fit time          2.37    2.19    2.17    2.05    2.47    2.25    0.15    \n",
            "Test time         4.45    4.70    4.48    4.56    4.44    4.53    0.10    \n"
          ],
          "name": "stdout"
        },
        {
          "output_type": "execute_result",
          "data": {
            "text/plain": [
              "{'fit_time': (2.368309497833252,\n",
              "  2.1888442039489746,\n",
              "  2.1712546348571777,\n",
              "  2.0469703674316406,\n",
              "  2.4727272987365723),\n",
              " 'test_mae': array([0.77518747, 0.78023003, 0.78469506, 0.78340901, 0.78276868]),\n",
              " 'test_rmse': array([0.98397013, 0.99312139, 0.99866801, 0.99556248, 0.99521554]),\n",
              " 'test_time': (4.4503819942474365,\n",
              "  4.69997763633728,\n",
              "  4.477220058441162,\n",
              "  4.564319133758545,\n",
              "  4.444337844848633)}"
            ]
          },
          "metadata": {
            "tags": []
          },
          "execution_count": 9
        }
      ]
    },
    {
      "cell_type": "markdown",
      "metadata": {
        "id": "dhUS9tQyhCm9"
      },
      "source": [
        "# Cosinus avec User based"
      ]
    },
    {
      "cell_type": "code",
      "metadata": {
        "colab": {
          "base_uri": "https://localhost:8080/"
        },
        "id": "_PpkGcFfeaoU",
        "outputId": "5e416d5d-71b5-4c18-ea9f-999d834e43f2"
      },
      "source": [
        "sim_options = {'name': 'cosine',\n",
        "               'user_based': True  \n",
        "               }\n",
        "algo = KNNBasic(sim_options=sim_options)\n",
        "cross_validate(algo, data, measures=['RMSE', 'MAE'], cv=5, verbose=True)"
      ],
      "execution_count": 11,
      "outputs": [
        {
          "output_type": "stream",
          "text": [
            "Computing the cosine similarity matrix...\n",
            "Done computing similarity matrix.\n",
            "Computing the cosine similarity matrix...\n",
            "Done computing similarity matrix.\n",
            "Computing the cosine similarity matrix...\n",
            "Done computing similarity matrix.\n",
            "Computing the cosine similarity matrix...\n",
            "Done computing similarity matrix.\n",
            "Computing the cosine similarity matrix...\n",
            "Done computing similarity matrix.\n",
            "Evaluating RMSE, MAE of algorithm KNNBasic on 5 split(s).\n",
            "\n",
            "                  Fold 1  Fold 2  Fold 3  Fold 4  Fold 5  Mean    Std     \n",
            "RMSE (testset)    1.0219  1.0171  1.0159  1.0195  1.0109  1.0170  0.0037  \n",
            "MAE (testset)     0.8058  0.8054  0.8018  0.8062  0.8007  0.8040  0.0023  \n",
            "Fit time          1.05    1.10    1.09    1.04    1.27    1.11    0.08    \n",
            "Test time         4.20    4.25    4.14    3.92    4.39    4.18    0.15    \n"
          ],
          "name": "stdout"
        },
        {
          "output_type": "execute_result",
          "data": {
            "text/plain": [
              "{'fit_time': (1.0515859127044678,\n",
              "  1.1020009517669678,\n",
              "  1.0913078784942627,\n",
              "  1.035456657409668,\n",
              "  1.265355110168457),\n",
              " 'test_mae': array([0.80584326, 0.80537949, 0.80184753, 0.80619229, 0.80070601]),\n",
              " 'test_rmse': array([1.02185348, 1.01712221, 1.01589976, 1.01945719, 1.01091127]),\n",
              " 'test_time': (4.1973206996917725,\n",
              "  4.245288133621216,\n",
              "  4.139065742492676,\n",
              "  3.9178173542022705,\n",
              "  4.385183572769165)}"
            ]
          },
          "metadata": {
            "tags": []
          },
          "execution_count": 11
        }
      ]
    },
    {
      "cell_type": "markdown",
      "metadata": {
        "id": "u6fEvcRPhJVU"
      },
      "source": [
        "# Cosinus avec items based"
      ]
    },
    {
      "cell_type": "code",
      "metadata": {
        "colab": {
          "base_uri": "https://localhost:8080/"
        },
        "id": "3cuLqFjzevnO",
        "outputId": "57e2c5d8-dffe-4611-e99f-28f163a8c0be"
      },
      "source": [
        "sim_options = {'name': 'cosine',\n",
        "               'user_based': False \n",
        "               }\n",
        "algo = KNNBasic(sim_options=sim_options)\n",
        "cross_validate(algo, data, measures=['RMSE', 'MAE'], cv=5, verbose=True)"
      ],
      "execution_count": 12,
      "outputs": [
        {
          "output_type": "stream",
          "text": [
            "Computing the cosine similarity matrix...\n",
            "Done computing similarity matrix.\n",
            "Computing the cosine similarity matrix...\n",
            "Done computing similarity matrix.\n",
            "Computing the cosine similarity matrix...\n",
            "Done computing similarity matrix.\n",
            "Computing the cosine similarity matrix...\n",
            "Done computing similarity matrix.\n",
            "Computing the cosine similarity matrix...\n",
            "Done computing similarity matrix.\n",
            "Evaluating RMSE, MAE of algorithm KNNBasic on 5 split(s).\n",
            "\n",
            "                  Fold 1  Fold 2  Fold 3  Fold 4  Fold 5  Mean    Std     \n",
            "RMSE (testset)    1.0329  1.0235  1.0299  1.0188  1.0312  1.0272  0.0053  \n",
            "MAE (testset)     0.8170  0.8098  0.8158  0.8050  0.8148  0.8125  0.0045  \n",
            "Fit time          1.94    1.79    1.91    1.76    1.75    1.83    0.08    \n",
            "Test time         4.74    4.84    4.48    4.79    4.55    4.68    0.14    \n"
          ],
          "name": "stdout"
        },
        {
          "output_type": "execute_result",
          "data": {
            "text/plain": [
              "{'fit_time': (1.9369425773620605,\n",
              "  1.792567491531372,\n",
              "  1.9146971702575684,\n",
              "  1.7577974796295166,\n",
              "  1.7546682357788086),\n",
              " 'test_mae': array([0.81702847, 0.80976124, 0.81579764, 0.80498299, 0.8148442 ]),\n",
              " 'test_rmse': array([1.03285546, 1.02349873, 1.02990104, 1.01880432, 1.03117147]),\n",
              " 'test_time': (4.738276720046997,\n",
              "  4.8376219272613525,\n",
              "  4.478290796279907,\n",
              "  4.791728734970093,\n",
              "  4.548786401748657)}"
            ]
          },
          "metadata": {
            "tags": []
          },
          "execution_count": 12
        }
      ]
    },
    {
      "cell_type": "markdown",
      "metadata": {
        "id": "9KPzPrEFf4Oz"
      },
      "source": [
        "**Commentaire**\n",
        "\n",
        "La meilleure approche est celle qui donne la plus petite RMSE. Par les différentes approches expérimentées celle qui a donné  la plus petite RMSE est l'approche basée sur items-based avec MSD pour la détermination de la similarité. Cette approche a donné une RMSE moyenne de 0,97.  "
      ]
    },
    {
      "cell_type": "code",
      "metadata": {
        "id": "4SZ3eXOufAnt"
      },
      "source": [
        ""
      ],
      "execution_count": null,
      "outputs": []
    }
  ]
}